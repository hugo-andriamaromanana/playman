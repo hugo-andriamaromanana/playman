{
 "cells": [
  {
   "cell_type": "code",
   "execution_count": 5,
   "metadata": {},
   "outputs": [
    {
     "name": "stdout",
     "output_type": "stream",
     "text": [
      "['Lil Wayne - How To Hate Ft T Pain ( Official HD ) The Carter 4', 'Tame Impala - The Less I Know The Better', 'Years & Years - King', 'The Script - Superheroes', 'Oliver ~ Chernobyl', 'Oliver & Big Baby ~ Carl Edwards', 'Oliver ~ 100k', 'Lil Mosey - Noticed (Directed by Cole Bennett)', 'Oliver ~ OZZY', 'XYLØ - Alive', 'NEFFEX - Soldier 🔥 [Copyright Free] No.34', 'Skan & Krale - No Glory (feat. M.I.M.E & Drama B)', 'Adam Jensen -  The Mystic', 'Vanic - Staring At The Sun', 'Prismo - Solo', 'NEFFEX - Rumors 💋 [Copyright Free] No.12', '\"I Am Defiant\" - The Seige [Explicit]', 'Token - Mom Would Agree', 'The Steeldrivers - Angel Of The Night', \"Snoop Dogg - 'Sweat' Snoop Dogg vs David Guetta (Remix)\", 'Arkells - Oh, The Boss is Coming!', 'Bowling For Soup-I Ran', 'Oliver ~ wwaavvyy', 'The Less I Know The Better - Tame Impala Lyrics', '2Pac ft. Gwen Stefani - Let Me Blow Ya Love (Lej Edit)', '2Pac - Do For Love (Lyrics on screen)', 'Oliver ~ SpaceX', 'KPoint - Señor Django (Clip officiel)', 'Encore', 'Pas là', 'Lil Nas X - Old Town Road (feat. Billy Ray Cyrus) [Remix]', 'Akon - Troublemaker - Lyrics', 'Azizi Gibson - Cabaret ( A new Life )', 'The Strokes - Under Cover Of Darkness', 'Timbaland - The Way I Are ft. Keri Hilson, D.O.E., Sebastian', 'JUNIOR - Mama Used To Say', 'The Black Keys - Little Black Submarines [Official Music Video]', 'The Black Keys - Gold On The Ceiling [Official Music Video]', 'NEFFEX - Myself [Lyrics]', 'Flipsyde - Champion (+ Lyrics)', 'Kanye West - Good Life ft. T-Pain', 'Bruno Mars - All She Knows (Lyrics on Screen)', 'Lost Sky - Dreams pt. II (feat. Sara Skinner) [NCS Release]', 'The Tech Thieves - Work On Me', 'Usher - Yeah', 'Damso - Graine de sablier', '#Afro_Ragga (Afro Bros x Puri) Ft DeeJay TMX', 'Hurshel - Life | ♫ Copyright Free Music', 'Skan - Warrior (feat. Highdiwaan)', 'The Score - Born For This', \"The Tech Thieves - I Don't Know\", 'James Stikå - Crazy Love | ♫ Copyright Free Music', 'Feint - Words (feat. Laura Brehm) [Monstercat Release]', \"[Glitch Hop or 110BPM] - Tristam - Till It's Over [Monstercat Release]\", 'Cadmium - Click And Scroll (ft. Eli Raain & Veronica Bravo) | ♫ Copyright Free Music', 'Halcyon & Valentina Franco - Runaway (Heuse Remix) [NCS Release]', 'MYRNE - Confessions (feat. Cozi Zuehlsdorff)', 'The Tech Thieves - On My Own', 'Vicetone - Nevada (ft. Cozi Zuehlsdorff)', 'Feint - Times Like These', 'Feint - My Sunset (Original Mix)', 'Luke White - Righteous (J. Cole)', '*FREE*  Luke White - Faders (Kendrick Lamar X Dizzy Wright Type)', 'Galantis - Hunter', 'Clean Bandit - Symphony (R3hab Remix) ft. Zara Larsson', 'Submatik - Run Away (ft. Astid Destuyver) (Addergebroed Remix)', 'Kanye West - Love Lockdown', 'Outkast - M.s Jackson', 'DRUGS...You Should Try It', \"Jok'Air - Bonbon à la menthe Feat Mallaury\", 'Kenn Colt - Be Alright (ft. Matthew Grant)', 'AFRO BROS x FINEST SNO - 18 PLUS', 'Ugly God & Wintertime - Straight Like That', 'J. Cole - She Knows (Explicit Video) ft. Amber Coffman, Cults', 'LohArano  - OAY', 'Saint JHN - Nigga Shit [Collection One]', 'Ramz - Barking', 'Neteta - Kissing Your Shadow (Roger Voka Remix) | #SOUNDOFSOUL', 'Chris Brown - New Flame ft. Usher, Rick Ross', 'Chris Brown - Loyal ft. Lil Wayne, Tyga', 'Chris Brown - Look at Me Now ft. Lil Wayne, Busta Rhymes', 'Chris Brown, Tyga - Ayo', 'Trey Songz - Na Na [Official Music Video]', 'Eminem - No Love (Explicit Version) ft. Lil Wayne', 'Nicki Minaj - High School ft. Lil Wayne', 'Rich Gang - Tapout [Official Video]', \"Big Sean - I Don't Fuck With You ft. E-40\", 'Kid Ink ft. Akon - Rewind', 'French Montana - Figure it Out ft. Kanye West, Nas', 'She Will', 'Flo Rida - I Cry', 'Flo Rida - Once In A Lifetime', 'Chris Brown feat. Kendrick Lamar - Autumn Leaves (X)']\n"
     ]
    }
   ],
   "source": [
    "import pandas as pd\n",
    "\n",
    "def get_csv(name):\n",
    "    return pd.read_csv(name)\n",
    "\n",
    "df= get_csv('/home/hugo/music/playman/database/items.csv')\n",
    "\n",
    "#get an array of all titles in a playlist\n",
    "\n",
    "def get_all_titles(playlist_name):\n",
    "    return list(df['title'].loc[df['playlist_name'] == playlist_name])\n",
    "\n",
    "print(get_all_titles('Remember 3'))"
   ]
  }
 ],
 "metadata": {
  "kernelspec": {
   "display_name": "tf",
   "language": "python",
   "name": "python3"
  },
  "language_info": {
   "codemirror_mode": {
    "name": "ipython",
    "version": 3
   },
   "file_extension": ".py",
   "mimetype": "text/x-python",
   "name": "python",
   "nbconvert_exporter": "python",
   "pygments_lexer": "ipython3",
   "version": "3.10.9"
  },
  "orig_nbformat": 4
 },
 "nbformat": 4,
 "nbformat_minor": 2
}
